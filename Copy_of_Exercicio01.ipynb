{
  "cells": [
    {
      "cell_type": "markdown",
      "metadata": {
        "id": "view-in-github",
        "colab_type": "text"
      },
      "source": [
        "<a href=\"https://colab.research.google.com/github/GSMartins999/exer1---Python/blob/main/Copy_of_Exercicio01.ipynb\" target=\"_parent\"><img src=\"https://colab.research.google.com/assets/colab-badge.svg\" alt=\"Open In Colab\"/></a>"
      ]
    },
    {
      "cell_type": "markdown",
      "metadata": {
        "id": "V2IXGHnj9-ws"
      },
      "source": [
        "## Lista de exercícios 01"
      ]
    },
    {
      "cell_type": "markdown",
      "metadata": {
        "id": "L1LdIfbo9-wv"
      },
      "source": [
        "### Exercício 1: Variáveis e Strings\n",
        "**Objetivo:** Praticar a criação de variáveis e o uso de strings.\n",
        "1. Crie uma variável chamada `nome` e atribua a ela o seu nome como uma string.\n",
        "2. Crie uma variável chamada `cidade` e atribua a ela o nome da sua cidade como uma string.\n",
        "3. Imprima uma mensagem de boas-vindas que use ambas as variáveis, como \"Olá, [nome]! Bem-vindo(a) à [cidade]!\"."
      ]
    },
    {
      "cell_type": "code",
      "execution_count": null,
      "metadata": {
        "colab": {
          "base_uri": "https://localhost:8080/"
        },
        "id": "jRoJUK1s9-wx",
        "outputId": "3640c561-2723-4f94-c918-38561ec260a0"
      },
      "outputs": [
        {
          "output_type": "stream",
          "name": "stdout",
          "text": [
            "Olá Lázaro! \n",
            "Bem-vindo à Varginha \n",
            "\n"
          ]
        }
      ],
      "source": [
        "nome = 'Lázaro'\n",
        "cidade = 'Varginha'\n",
        "print(f'Olá {nome}! \\nBem-vindo à {cidade}')"
      ]
    },
    {
      "cell_type": "markdown",
      "metadata": {
        "id": "sII8pvym9-wx"
      },
      "source": [
        "### Exercício 2: Operações com Números\n",
        "**Objetivo:** Praticar a utilização de variáveis numéricas e realizar operações básicas.\n",
        "\n",
        "1. Crie duas variáveis, `numero1` e `numero2`, e atribua valores numéricos a elas.\n",
        "2. Calcule a soma, subtração, multiplicação e divisão de `numero1` por `numero2`. Armazene cada resultado em variáveis distintas.\n",
        "3. Imprima os resultados das operações com uma descrição adequada, por exemplo: \"A soma de numero1 e numero2 é [resultado].\"."
      ]
    },
    {
      "cell_type": "code",
      "execution_count": null,
      "metadata": {
        "colab": {
          "base_uri": "https://localhost:8080/"
        },
        "id": "kl9-G1IC9-wy",
        "outputId": "4557ba45-2780-4f47-82bd-186356212413"
      },
      "outputs": [
        {
          "output_type": "stream",
          "name": "stdout",
          "text": [
            "A soma de 10 e 5 é 15.\n",
            "A subtração de 10 com 5 é 5.\n",
            "A multiplicação de 10 por 5 é 50.\n",
            "A divisão de 10 por 5 é 2.0.\n"
          ]
        }
      ],
      "source": [
        "numero1 = 10\n",
        "numero2 = 5\n",
        "\n",
        "#operações\n",
        "soma = numero1 + numero2\n",
        "subtracao = numero1 - numero2\n",
        "multiplicacao = numero1 * numero2\n",
        "divisao = numero1 / numero2\n",
        "\n",
        "#resultados\n",
        "print(f'A soma de {numero1} e {numero2} é {soma}.')\n",
        "print(f'A subtração de {numero1} com {numero2} é {subtracao}.')\n",
        "print(f'A multiplicação de {numero1} por {numero2} é {multiplicacao}.')\n",
        "print(f'A divisão de {numero1} por {numero2} é {divisao}.')"
      ]
    },
    {
      "cell_type": "markdown",
      "metadata": {
        "id": "MLJSW_9e9-wy"
      },
      "source": [
        "### Exercício 3: Conversão de Tipos\n",
        "**Objetivo:** Praticar a conversão entre tipos de dados.\n",
        "\n",
        "1. Crie uma variável `numero_string` e atribua a ela um número como uma string, por exemplo, \"1234\".\n",
        "2. Converta `numero_string` para um tipo inteiro e armazene o resultado em uma nova variável chamada `numero_int`.\n",
        "3. Multiplique `numero_int` por 2 e imprima o resultado."
      ]
    },
    {
      "cell_type": "code",
      "execution_count": null,
      "metadata": {
        "id": "qcSqh3NW9-wy",
        "colab": {
          "base_uri": "https://localhost:8080/"
        },
        "outputId": "3b00345f-4b84-4c56-a477-c9cd5bb3353f"
      },
      "outputs": [
        {
          "output_type": "stream",
          "name": "stdout",
          "text": [
            "2468\n"
          ]
        }
      ],
      "source": [
        "numero_string = str(\"1234\")\n",
        "numero_int = int(numero_string)\n",
        "print(numero_int * 2)"
      ]
    },
    {
      "cell_type": "markdown",
      "metadata": {
        "id": "-qgJ7m6J9-wy"
      },
      "source": [
        "### Exercício 4: Trabalhando com Booleanos\n",
        "**Objetivo:** Entender o uso de variáveis booleanas e expressões lógicas.\n",
        "\n",
        "1. Crie duas variáveis booleanas, `verdadeiro` e `falso`, atribuindo os valores `True` e `False`, respectivamente.\n",
        "2. Crie uma expressão que use operadores lógicos (`and`, `or`, `not`) com essas variáveis e determine o resultado da expressão.\n",
        "3. Imprima o resultado da expressão lógica."
      ]
    },
    {
      "cell_type": "code",
      "execution_count": null,
      "metadata": {
        "id": "D440q6Sz9-wz",
        "colab": {
          "base_uri": "https://localhost:8080/"
        },
        "outputId": "3b4f4510-99a7-4bb8-dd07-7e2c9d493288"
      },
      "outputs": [
        {
          "output_type": "stream",
          "name": "stdout",
          "text": [
            "Escreva um número: 2\n",
            "False\n"
          ]
        }
      ],
      "source": [
        "verdadeiro = True\n",
        "falso = False\n",
        "x = int(input(\"Escreva um número: \"))\n",
        "\n",
        "\n",
        "if(x == 10 or x > 10):\n",
        "  print(f\"{verdadeiro}\")\n",
        "else:\n",
        "  print(f\"{falso}\")"
      ]
    },
    {
      "cell_type": "markdown",
      "metadata": {
        "id": "VnQR-shq9-wz"
      },
      "source": [
        "### Exercício 5: Manipulação de Strings\n",
        "**Objetivo:** Praticar operações básicas com strings.\n",
        "\n",
        "1. Crie uma variável `frase` com o valor \"Python é muito divertido!\".\n",
        "2. Utilize o slicing (fatiamento) para extrair a palavra \"Python\" da frase.\n",
        "3. Converta a palavra \"Python\" para maiúsculas e imprima o resultado.\n",
        "4. Substitua a palavra \"divertido\" por \"poderoso\" na `frase` e imprima a nova frase."
      ]
    },
    {
      "cell_type": "code",
      "execution_count": null,
      "metadata": {
        "id": "6HwUxIxU9-wz",
        "colab": {
          "base_uri": "https://localhost:8080/"
        },
        "outputId": "78ffbef8-be0e-4c5e-cca2-578983ea8c39"
      },
      "outputs": [
        {
          "output_type": "stream",
          "name": "stdout",
          "text": [
            "PYTHON\n",
            "Python é muito poderoso!\n"
          ]
        }
      ],
      "source": [
        "frase = \"Python é muito divertido!\"\n",
        "fatiamento = print(frase[0:6].upper())\n",
        "print(frase.replace(\"divertido\", \"poderoso\"))\n"
      ]
    },
    {
      "cell_type": "markdown",
      "metadata": {
        "id": "e2MjRrT99-wz"
      },
      "source": [
        "### Exercício 6: Função com Argumentos\n",
        "**Objetivo:** Aprender a definir funções que recebam argumentos.\n",
        "\n",
        "1. Defina uma função chamada `cumprimentar_por_nome` que aceite um nome como argumento e imprima \"Olá, [nome]!\".\n",
        "2. Chame a função `cumprimentar_por_nome`, passando seu próprio nome como argumento.\n"
      ]
    },
    {
      "cell_type": "code",
      "execution_count": null,
      "metadata": {
        "id": "c2BaFbBS9-wz",
        "colab": {
          "base_uri": "https://localhost:8080/"
        },
        "outputId": "86e3878e-9bfe-45f6-c839-bf4f89f6f652"
      },
      "outputs": [
        {
          "output_type": "stream",
          "name": "stdout",
          "text": [
            "Olá, Giovanni\n"
          ]
        }
      ],
      "source": [
        "def cumprimentar_por_nome(nome: str) -> str:\n",
        "  print(f\"Olá, {nome}\")\n",
        "\n",
        "cumprimentar_por_nome(\"Giovanni\")"
      ]
    },
    {
      "cell_type": "markdown",
      "metadata": {
        "id": "es8zumv39-wz"
      },
      "source": [
        "### Exercício 7: Função com Valor de Retorno\n",
        "**Objetivo:** Praticar a criação de funções que retornam valores.\n",
        "\n",
        "1. Defina uma função chamada `soma` que aceite dois números como argumentos e retorne a soma deles.\n",
        "2. Chame a função `soma`, passando dois números de sua escolha como argumentos, e imprima o resultado.\n"
      ]
    },
    {
      "cell_type": "code",
      "execution_count": null,
      "metadata": {
        "id": "MEL1B8x-9-w0",
        "colab": {
          "base_uri": "https://localhost:8080/"
        },
        "outputId": "47a9a43b-3a93-4450-84b4-4f0d139b10d8"
      },
      "outputs": [
        {
          "output_type": "stream",
          "name": "stdout",
          "text": [
            "8.5\n"
          ]
        }
      ],
      "source": [
        "def soma(a, b):\n",
        "  return(a + b)\n",
        "\n",
        "print(soma(5, 3.5))"
      ]
    },
    {
      "cell_type": "markdown",
      "metadata": {
        "id": "7e0Cwvyh9-w0"
      },
      "source": [
        "### Exercício 8: Função com Múltiplos Retornos\n",
        "**Objetivo:** Entender como retornar múltiplos valores de uma função.\n",
        "\n",
        "1. Defina uma função chamada `operacoes_basicas` que aceite dois números e retorne a soma, subtração, multiplicação e divisão deles.\n",
        "2. Chame a função `operacoes_basicas`, passando dois números como argumentos, e imprima os resultados retornados.\n"
      ]
    },
    {
      "cell_type": "code",
      "execution_count": null,
      "metadata": {
        "id": "Ddego8x-9-w0",
        "colab": {
          "base_uri": "https://localhost:8080/"
        },
        "outputId": "389d398d-cdad-4670-d48e-a3b6a84db8fc"
      },
      "outputs": [
        {
          "output_type": "stream",
          "name": "stdout",
          "text": [
            "Soma: 7, Subtração: -3, Multiplicação: 10, Divisão: 0.4\n"
          ]
        }
      ],
      "source": [
        "def operacoes_basicas(a, b):\n",
        "  return(a+b, a - b, a*b, a/b)\n",
        "\n",
        "soma, subtracao, multiplicacao, divisao = operacoes_basicas(2, 5)\n",
        "print(f\"Soma: {soma}, Subtração: {subtracao}, Multiplicação: {multiplicacao}, Divisão: {divisao}\")"
      ]
    },
    {
      "cell_type": "markdown",
      "metadata": {
        "id": "rFv_yxPl9-w0"
      },
      "source": [
        "### Exercício 9: Função Recursiva\n",
        "**Objetivo:** Praticar a definição de funções recursivas.\n",
        "\n",
        "1. Defina uma função chamada `fatorial` que calcule o fatorial de um número fornecido como argumento. Lembre-se de que o fatorial de um número n é o produto de todos os inteiros positivos menores ou iguais a n (e que o fatorial de 0 é 1).\n",
        "2. Chame a função `fatorial`, passando um número de sua escolha como argumento, e imprima o resultado."
      ]
    },
    {
      "cell_type": "code",
      "execution_count": null,
      "metadata": {
        "id": "PU3fF-Uz9-w0",
        "colab": {
          "base_uri": "https://localhost:8080/"
        },
        "outputId": "bb88bd38-ee79-4ee3-cc24-c7a92f5af50e"
      },
      "outputs": [
        {
          "output_type": "stream",
          "name": "stdout",
          "text": [
            "120\n"
          ]
        }
      ],
      "source": [
        "def fatorial (n):\n",
        "  if(n == 0):\n",
        "    return 1\n",
        "  else:\n",
        "    return n * fatorial(n-1)\n",
        "\n",
        "print(fatorial(5))"
      ]
    },
    {
      "cell_type": "markdown",
      "metadata": {
        "id": "Yqy-7ufq9-w0"
      },
      "source": [
        "### Exercício 10: Listas\n",
        "**Objetivo:** Praticar operações básicas com listas.\n",
        "\n",
        "1. Crie uma lista chamada `frutas` contendo \"maçã\", \"banana\" e \"cereja\".\n",
        "2. Adicione \"laranja\" ao final da lista.\n",
        "3. Acesse e imprima o segundo item da lista.\n",
        "4. Remova \"banana\" da lista.\n",
        "5. Imprima a lista inteira."
      ]
    },
    {
      "cell_type": "code",
      "execution_count": null,
      "metadata": {
        "id": "2JWognse9-w0",
        "colab": {
          "base_uri": "https://localhost:8080/"
        },
        "outputId": "49698249-9611-4459-b606-7224eec6207a"
      },
      "outputs": [
        {
          "output_type": "stream",
          "name": "stdout",
          "text": [
            "banana\n",
            "['maçã', 'cereja', 'laranja']\n"
          ]
        }
      ],
      "source": [
        "frutas = [\"maçã\",\"banana\",\"cereja\"]\n",
        "frutas.append(\"laranja\")\n",
        "print(frutas[1])\n",
        "frutas.remove(\"banana\")\n",
        "print(frutas)"
      ]
    },
    {
      "cell_type": "markdown",
      "metadata": {
        "id": "BStGzzkP9-w1"
      },
      "source": [
        "\n",
        "### Exercício 11: Tuplas\n",
        "**Objetivo:** Entender a imutabilidade das tuplas.\n",
        "\n",
        "1. Crie uma tupla chamada `coordenadas` com valores (4, 5).\n",
        "2. Tente alterar o primeiro valor da tupla para 10 (Isso deve resultar em um erro).\n",
        "3. Acesse e imprima o segundo valor da tupla.\n"
      ]
    },
    {
      "cell_type": "code",
      "execution_count": null,
      "metadata": {
        "id": "X9uH3R5b9-w1",
        "colab": {
          "base_uri": "https://localhost:8080/"
        },
        "outputId": "07cebc5d-2719-470e-f002-912ccec36518"
      },
      "outputs": [
        {
          "output_type": "stream",
          "name": "stdout",
          "text": [
            "4\n"
          ]
        }
      ],
      "source": [
        "coordenadas = (4,5)\n",
        "print(coordenadas[0])"
      ]
    },
    {
      "cell_type": "markdown",
      "metadata": {
        "id": "Vd_Wn5B_9-w1"
      },
      "source": [
        "### Exercício 12: Conjuntos (Sets)\n",
        "**Objetivo:** Praticar operações com conjuntos.\n",
        "\n",
        "1. Crie um conjunto chamado `cores` contendo \"vermelho\", \"azul\" e \"verde\".\n",
        "2. Adicione \"amarelo\" ao conjunto.\n",
        "3. Tente adicionar \"azul\" novamente ao conjunto e observe o que acontece.\n",
        "4. Remova \"verde\" do conjunto.\n",
        "5. Verifique se \"vermelho\" está presente no conjunto e imprima o resultado.\n"
      ]
    },
    {
      "cell_type": "code",
      "execution_count": null,
      "metadata": {
        "id": "dUpjCLLk9-w1",
        "colab": {
          "base_uri": "https://localhost:8080/"
        },
        "outputId": "1a3b8df4-f161-44d2-c904-1b1e2b573bbb"
      },
      "outputs": [
        {
          "output_type": "stream",
          "name": "stdout",
          "text": [
            "{'verde', 'vermelho', 'amarelo', 'azul'}\n",
            "{'vermelho', 'amarelo', 'azul'}\n",
            "True\n"
          ]
        }
      ],
      "source": [
        "cores = {\"vermelho\", \"azul\", \"verde\"}\n",
        "cores.add(\"amarelo\")\n",
        "\n",
        "cores.add(\"azul\")\n",
        "print(cores)\n",
        "\n",
        "cores.remove(\"verde\")\n",
        "print(cores)\n",
        "\n",
        "print(\"vermelho\" in cores)"
      ]
    },
    {
      "cell_type": "markdown",
      "metadata": {
        "id": "LJZU2WgF9-w1"
      },
      "source": [
        "### Exercício 13: Dicionários\n",
        "**Objetivo:** Praticar a criação e manipulação de dicionários.\n",
        "\n",
        "1. Crie um dicionário chamado `pessoa` com as chaves \"nome\" e \"idade\", atribuindo valores apropriados a elas.\n",
        "2. Adicione uma nova chave \"cidade\" com um valor correspondente ao dicionário.\n",
        "3. Acesse e imprima o valor associado à chave \"nome\".\n",
        "4. Altere o valor associado à chave \"idade\".\n",
        "5. Remova o par chave-valor \"cidade\" do dicionário.\n",
        "6. Imprima o dicionário inteiro."
      ]
    },
    {
      "cell_type": "code",
      "execution_count": null,
      "metadata": {
        "id": "X621MbiF9-w1",
        "colab": {
          "base_uri": "https://localhost:8080/"
        },
        "outputId": "d1b66ee2-8a25-4a1c-e4f9-d1cfa5a6574b"
      },
      "outputs": [
        {
          "output_type": "stream",
          "name": "stdout",
          "text": [
            "Giovanni\n",
            "{'nome': 'Giovanni', 'idade': 20}\n"
          ]
        }
      ],
      "source": [
        "pessoa = {\"nome\": \"Giovanni\", \"idade\": 19}\n",
        "pessoa[\"cidade\"] = \"Campanha\"\n",
        "print(pessoa[\"nome\"])\n",
        "\n",
        "pessoa[\"idade\"] = 20\n",
        "\n",
        "del pessoa[\"cidade\"]\n",
        "\n",
        "print(pessoa)"
      ]
    },
    {
      "cell_type": "markdown",
      "metadata": {
        "id": "j6BtiVzi9-w1"
      },
      "source": [
        "### Exercício 14: Listas\n",
        "**Objetivo:** Praticar a manipulação de listas com uma aplicação de lista de compras.\n",
        "\n",
        "1. Você tem uma lista inicial de compras chamada `lista_de_compras` contendo os seguintes itens: \"leite\", \"pão\", \"maçã\" e \"banana\".\n",
        "2. Um amigo seu pediu para adicionar \"cereal\" e \"mel\" à lista.\n",
        "3. No caminho para o supermercado, você lembra que já tem \"maçã\" em casa. Remova este item da lista.\n",
        "4. No supermercado, você decide que quer \"banana\" e \"pão\" em dobro. Encontre uma forma de atualizar esses itens na lista.\n",
        "5. Ao final, ordene a lista alfabeticamente e imprima-a.\n"
      ]
    },
    {
      "cell_type": "code",
      "execution_count": null,
      "metadata": {
        "id": "SCRuwlEV9-w1",
        "colab": {
          "base_uri": "https://localhost:8080/"
        },
        "outputId": "d83bc504-df79-44ed-8c52-218dbcbc1100"
      },
      "outputs": [
        {
          "output_type": "stream",
          "name": "stdout",
          "text": [
            "['banana', 'banana', 'cereal', 'leite', 'mel', 'pão', 'pão']\n"
          ]
        }
      ],
      "source": [
        "lista_de_compras = [\"leite\", \"pão\", \"maçã\", \"banana\"]\n",
        "lista_de_compras.extend([\"cereal\", \"mel\"])\n",
        "lista_de_compras.remove(\"maçã\")\n",
        "lista_de_compras.extend([\"banana\", \"pão\"])\n",
        "lista_de_compras.sort()\n",
        "print(lista_de_compras)"
      ]
    },
    {
      "cell_type": "markdown",
      "metadata": {
        "id": "a10dRR1V9-w1"
      },
      "source": [
        "### Exercício 15: Tuplas\n",
        "**Objetivo:** Explorar a imutabilidade das tuplas com um exemplo de coordenadas geográficas.\n",
        "\n",
        "1. Você tem uma tupla `coordenadas` com três pontos representando coordenadas (latitude, longitude) de locais diferentes: (23.5, 45.2), (42.1, 22.3), e (55.1, 13.7).\n",
        "2. Seu objetivo é imprimir cada coordenada, mas você precisa formatá-las como \"Latitude: [valor], Longitude: [valor]\".\n",
        "3. Discuta por que a tupla é uma escolha adequada para armazenar esses dados.\n"
      ]
    },
    {
      "cell_type": "code",
      "execution_count": null,
      "metadata": {
        "id": "SD7NB-829-w1",
        "colab": {
          "base_uri": "https://localhost:8080/"
        },
        "outputId": "ad64079d-cfcb-449b-ee15-b4ae3aaa0174"
      },
      "outputs": [
        {
          "output_type": "stream",
          "name": "stdout",
          "text": [
            "Latitude: 23.5, Longitude: 45.2\n",
            "Latitude: 42.1, Longitude: 22.3\n",
            "Latitude: 55.1, Longitude: 13.7\n"
          ]
        }
      ],
      "source": [
        "coordenadas = ((23.5, 45.2), (42.1, 22.3),(55.1, 13.7))\n",
        "for lat, long in coordenadas:\n",
        "    print(f\"Latitude: {lat}, Longitude: {long}\")"
      ]
    },
    {
      "cell_type": "markdown",
      "metadata": {
        "id": "kXtghwLC9-w1"
      },
      "source": [
        "### Exercício 16: Conjuntos\n",
        "**Objetivo:** Praticar operações avançadas com conjuntos usando dois conjuntos de números.\n",
        "\n",
        "1. Dado dois conjuntos `conjunto_a` = {1, 2, 3, 4, 5} e `conjunto_b` = {4, 5, 6, 7, 8}, encontre a união, interseção, diferença e diferença simétrica entre eles.\n",
        "2. Imprima cada um dos resultados obtidos nas operações acima.\n"
      ]
    },
    {
      "cell_type": "code",
      "execution_count": null,
      "metadata": {
        "id": "AUjAo5N_9-w2",
        "colab": {
          "base_uri": "https://localhost:8080/"
        },
        "outputId": "16d19826-0c08-4fa7-c669-72090f2338d9"
      },
      "outputs": [
        {
          "output_type": "stream",
          "name": "stdout",
          "text": [
            "{1, 2, 3, 4, 5, 6, 7, 8}\n",
            "{4, 5}\n",
            "{1, 2, 3}\n",
            "{8, 6, 7}\n",
            "{1, 2, 3, 6, 7, 8}\n"
          ]
        }
      ],
      "source": [
        "conjunto_a = {1, 2, 3, 4, 5}\n",
        "conjunto_b = {4, 5, 6, 7, 8}\n",
        "\n",
        "# União\n",
        "print(conjunto_a.union(conjunto_b))\n",
        "# Interseção\n",
        "print(conjunto_a.intersection(conjunto_b))\n",
        "# Diferença a com b\n",
        "print(conjunto_a.difference(conjunto_b))\n",
        "# Diferença b com a\n",
        "print(conjunto_b.difference(conjunto_a))\n",
        "# Diferença Simétrica\n",
        "print(conjunto_a.symmetric_difference(conjunto_b))\n",
        "\n"
      ]
    },
    {
      "cell_type": "markdown",
      "metadata": {
        "id": "wLCLVzoQ9-w2"
      },
      "source": [
        "### Exercício 17: Dicionários\n",
        "**Objetivo:** Manipular dicionários através de um cenário de estoque de produtos.\n",
        "\n",
        "1. Você tem um dicionário `estoque` que mapeia nomes de produtos a suas quantidades em estoque: {\"maçãs\": 30, \"bananas\": 15, \"laranjas\": 10, \"peras\": 5}.\n",
        "2. Um cliente comprou 2 maçãs, 5 bananas e 1 laranja. Atualize o estoque de acordo com esta compra.\n",
        "3. Um novo carregamento chegou, adicionando 10 maçãs e 5 peras ao estoque. Atualize o estoque.\n",
        "4. Imprima o estoque atualizado."
      ]
    },
    {
      "cell_type": "code",
      "execution_count": null,
      "metadata": {
        "id": "gnq8z-dU9-w2",
        "colab": {
          "base_uri": "https://localhost:8080/"
        },
        "outputId": "1a4129d3-d6c8-4398-c97f-c6ca640e7ab7"
      },
      "outputs": [
        {
          "output_type": "stream",
          "name": "stdout",
          "text": [
            "Estoque antes: {'maçãs': 30, 'bananas': 15, 'laranjas': 10, 'peras': 5}\n",
            "Estoque depois: {'maçãs': 38, 'bananas': 10, 'laranjas': 9, 'peras': 10}\n"
          ]
        }
      ],
      "source": [
        "estoque = {\"maçãs\": 30,\"bananas\": 15,\"laranjas\": 10,\"peras\": 5}\n",
        "\n",
        "print(f'Estoque antes: {estoque}')\n",
        "\n",
        "#Um cliente comprou 2 maçãs, 5 bananas e 1 laranja. Atualize o estoque de acordo com esta compra.\n",
        "estoque[\"maçãs\"] -=2\n",
        "estoque[\"bananas\"] -=5\n",
        "estoque[\"laranjas\"] -=1\n",
        "\n",
        "#Um novo carregamento chegou, adicionando 10 maçãs e 5 peras ao estoque. Atualize o estoque.\n",
        "estoque[\"maçãs\"] +=10\n",
        "estoque[\"peras\"] +=5\n",
        "\n",
        "print(f'Estoque depois: {estoque}')\n"
      ]
    }
  ],
  "metadata": {
    "kernelspec": {
      "display_name": "venv",
      "language": "python",
      "name": "python3"
    },
    "language_info": {
      "codemirror_mode": {
        "name": "ipython",
        "version": 3
      },
      "file_extension": ".py",
      "mimetype": "text/x-python",
      "name": "python",
      "nbconvert_exporter": "python",
      "pygments_lexer": "ipython3",
      "version": "3.11.5"
    },
    "colab": {
      "provenance": [],
      "include_colab_link": true
    }
  },
  "nbformat": 4,
  "nbformat_minor": 0
}